{
  "nbformat": 4,
  "nbformat_minor": 0,
  "metadata": {
    "colab": {
      "provenance": [],
      "authorship_tag": "ABX9TyNfMgTRlmNG8bNlhLrjaU3W",
      "include_colab_link": true
    },
    "kernelspec": {
      "name": "python3",
      "display_name": "Python 3"
    },
    "language_info": {
      "name": "python"
    }
  },
  "cells": [
    {
      "cell_type": "markdown",
      "metadata": {
        "id": "view-in-github",
        "colab_type": "text"
      },
      "source": [
        "<a href=\"https://colab.research.google.com/github/Samruddhi-saoji/image-processing-basics/blob/main/image_processing.ipynb\" target=\"_parent\"><img src=\"https://colab.research.google.com/assets/colab-badge.svg\" alt=\"Open In Colab\"/></a>"
      ]
    },
    {
      "cell_type": "markdown",
      "source": [
        "# Image handling"
      ],
      "metadata": {
        "id": "ev8AXuxtUkBl"
      }
    },
    {
      "cell_type": "code",
      "source": [
        "import cv2\n",
        "import numpy as np\n",
        "import matplotlib.pyplot as plt\n",
        "import pandas as pd\n",
        "import os\n",
        "import glob\n",
        "\n",
        "#### Reading and Saving #####\n",
        "def read(img_path):\n",
        "   return cv2.imread(img_path, cv2.IMREAD_COLOR)\n",
        "\n",
        "def read_grayscale(img_path):\n",
        "   return cv2.imread(img_path, cv2.IMREAD_GRAYSCALE)\n",
        "\n",
        "def save(img, img_path=\"output.jpeg\"):\n",
        "   cv2.imwrite(img_path, img)\n",
        "\n",
        "\n",
        "# returns (list of images, list of names)\n",
        "def list_images(folder_path):\n",
        "    result = []\n",
        "\n",
        "    # get list of names of all the images in the folder\n",
        "    file_names = os.listdir(folder_path)\n",
        "\n",
        "    # read each image as numpy aaray\n",
        "    for img_name in file_names:\n",
        "        # full path of the img = folder_path + image name\n",
        "        image_path = os.path.join(folder_path, img_name)\n",
        "\n",
        "        # Read the image and add it to the list\n",
        "        img = read(image_path) # read as (r,g,b)\n",
        "        if img is not None:\n",
        "            result.append(read(image_path))\n",
        "\n",
        "    return (result, file_names)\n",
        "\n",
        "\n",
        "#delete all files in a folder\n",
        "def delete_all_files(folder_path):\n",
        "    files = glob.glob(os.path.join(folder_path, '*'))\n",
        "    for file in files:\n",
        "        if os.path.isfile(file):\n",
        "            os.remove(file)\n",
        "\n",
        "\n",
        "#### Updating pixel colour ####\n",
        "# Update pixel at (r, c) to new_clr\n",
        "# new_clr = (b, g, r)\n",
        "def set_pixel(img, pix, new_clr):\n",
        "    r, c = pix[0], pix[1]\n",
        "    b_new, g_new, r_new = new_clr[0], new_clr[1], new_clr[2]\n",
        "\n",
        "    #update the pixel\n",
        "    img.itemset((r, c, 0), b_new)  # Blue channel\n",
        "    img.itemset((r, c, 1), g_new)  # Green channel\n",
        "    img.itemset((r, c, 2), r_new)  # Red channel\n",
        "\n",
        "    #return updated image\n",
        "    return img\n",
        "\n",
        "def set_blue(img, pix, new_blue):\n",
        "    img.itemset((pix[0], pix[1], 0), new_blue)  # Blue channel\n",
        "    return img\n",
        "\n",
        "def set_green(img, pix, new_green):\n",
        "    img.itemset((pix[0], pix[1], 1), new_green)\n",
        "    return img\n",
        "\n",
        "def set_red(img, pix, new_red):\n",
        "    img.itemset((pix[0], pix[1], 2), new_ref)\n",
        "    return img\n",
        "\n",
        "#### Check colour ####\n",
        "# returns True if given pixel is red\n",
        "def isRed(pixel):\n",
        "   b, g, r = pixel\n",
        "   return r > 200 and g < 100 and b < 100\n",
        "\n",
        "def isBlue(pixel, thresh=100):\n",
        "   b, g, r = pixel\n",
        "   #if (b-g)>=thresh and (b-r)>=thresh: return True\n",
        "   #return False\n",
        "   return b > 200 and g < 100 and r < 100\n",
        "\n",
        "def isGreen(pixel):\n",
        "   b, g, r = pixel\n",
        "   #if (g-b)>=75 and (g-r)>=75: return True\n",
        "   #return False\n",
        "   return g > 200 and r < 100 and b < 100\n",
        "\n",
        "\n",
        "# if approx is True, then nearly gray is also ok\n",
        "def isGray(pixel, approx=False, thresh=20):\n",
        "   b, g, r = pixel # image is gray if b=g=r\n",
        "\n",
        "   if not approx:\n",
        "      if (b == g) and (g == r):\n",
        "         return True\n",
        "      else: return False\n",
        "\n",
        "   else: # approximately gray is ok\n",
        "      return abs(r - g) < thresh and abs(g - b) < thresh\n",
        "\n",
        "\n",
        "# if approx is True, then nearly gray is also ok\n",
        "def isWhite(pixel, approx=True, thresh=200):\n",
        "   b, g, r = pixel\n",
        "\n",
        "   if not approx:\n",
        "      if b!=255 or g!=255 or r!=255: return False\n",
        "      else: return True\n",
        "\n",
        "   else: # approximately white is ok\n",
        "      return r > thresh and g > thresh and b > thresh\n",
        "\n",
        "\n",
        "def isBlack(pixel, approx=True, thresh=200):\n",
        "   b, g, r = pixel\n",
        "\n",
        "   if not approx:\n",
        "      if b!=0 or g!=0 or r!=0: return False\n",
        "      else: return True\n",
        "\n",
        "   else: # approximately black is ok\n",
        "      return r < thresh and g < thresh and b < thresh\n",
        "\n",
        "\n",
        "#### basic operations ####\n",
        "#compress image\n",
        "  # reduce img from size (r1, c1) to (r2, c2)\n",
        "  # every (r1/r2)th row and every (c1/c2)th vol of the original img shld be copied to the compressed img\n",
        "def compress_img(img, r1, c1, r2, c2):\n",
        "    compressed_img = img[::r1 // r2, ::c1 // c2]\n",
        "    return compressed_img\n",
        "\n",
        "# (h_old, w_old) to (h_new, w_new)\n",
        "def crop(img, r_start, num_rows, c_start, num_cols):\n",
        "    cropped_img = img[r_start:r_start + num_rows, c_start: c_start + num_cols :]\n",
        "    return cropped_img"
      ],
      "metadata": {
        "id": "xu6Md38ZnCg1"
      },
      "execution_count": null,
      "outputs": []
    },
    {
      "cell_type": "markdown",
      "source": [
        "# Processing"
      ],
      "metadata": {
        "id": "3hDDQ-0GLEmy"
      }
    },
    {
      "cell_type": "markdown",
      "source": [
        "## convert to grayscale"
      ],
      "metadata": {
        "id": "PNW1-azELHXH"
      }
    },
    {
      "cell_type": "code",
      "source": [
        "def convert_to_grayscale(img):\n",
        "   rows, cols, _ = img.shape\n",
        "\n",
        "   for r in range(rows):\n",
        "       for c in range(cols):\n",
        "           blue, green, red = img[r][c]\n",
        "           gray = (blue + red + green)/3\n",
        "\n",
        "           # update pixel value\n",
        "           img[r][c] = (gray, gray, gray)\n",
        "   return img"
      ],
      "metadata": {
        "id": "0bfK0h2pLbCq"
      },
      "execution_count": null,
      "outputs": []
    },
    {
      "cell_type": "markdown",
      "source": [
        "## invert colours"
      ],
      "metadata": {
        "id": "roMs0q0iLLrS"
      }
    },
    {
      "cell_type": "code",
      "source": [
        "def invert_colours(img):\n",
        "   rows, cols, _ = img.shape\n",
        "\n",
        "   for r in range(rows):\n",
        "       for c in range(cols):\n",
        "           # current values\n",
        "           blue, green, red = img[r][c]\n",
        "\n",
        "           # update value\n",
        "           img[r][c] = (255-blue, 255-green, 255-red)\n",
        "\n",
        "   return img"
      ],
      "metadata": {
        "id": "M0TZFnBxLPYl"
      },
      "execution_count": null,
      "outputs": []
    },
    {
      "cell_type": "markdown",
      "source": [
        "## green screen"
      ],
      "metadata": {
        "id": "z21xac_ZLQlt"
      }
    },
    {
      "cell_type": "code",
      "source": [
        "def greenscreen(img, background):\n",
        "   rows, cols, _ = img.shape\n",
        "\n",
        "   for r in range(rows):\n",
        "       for c in range(cols):\n",
        "           img_pix = img[r][c]\n",
        "           if is_green(img_pix):\n",
        "               bg_pix = background[r][c]\n",
        "               img[r][c] = bg_pix\n",
        "\n",
        "   return img"
      ],
      "metadata": {
        "id": "GXOYBwFYLc4x"
      },
      "execution_count": null,
      "outputs": []
    },
    {
      "cell_type": "markdown",
      "source": [
        "## Increase resolution"
      ],
      "metadata": {
        "id": "Spa9CiMyLWRG"
      }
    },
    {
      "cell_type": "code",
      "source": [
        "def increase_resolution(img):\n",
        "    rows, cols, _ = img.shape\n",
        "\n",
        "    new_rows, new_cols = rows*2, cols*2\n",
        "    new_img = np.zeros((new_rows, new_cols, 3), dtype=img.dtype)\n",
        "\n",
        "    # copy all rows and cols\n",
        "    #new_img[0::2][::2] = img\n",
        "    for r in range(0, new_rows, 2):\n",
        "        new_img[r][0::2] = img[r//2][:]\n",
        "    for c in range(0, new_cols, 2):\n",
        "        new_img[::][c] = img[:][c//2]\n",
        "\n",
        "\n",
        "    # fill the remaining pixels\n",
        "    for r in range(1, new_rows-1, 2):\n",
        "        for c in range(1, new_cols-1,2):\n",
        "            # if row and col are even, then slip\n",
        "            #pix = new_img[r][c]\n",
        "            new_val = (new_img[r-1][c-1] + new_img[r-1][c+1] + new_img[r+1][c-1] + new_img[r+1][c+1])/4\n",
        "            new_img[r][c] = new_val\n",
        "\n",
        "    return new_img"
      ],
      "metadata": {
        "id": "ABz9gO2ilEIu"
      },
      "execution_count": null,
      "outputs": []
    },
    {
      "cell_type": "markdown",
      "source": [
        "## remove background"
      ],
      "metadata": {
        "id": "7S0SuUG8LvW3"
      }
    },
    {
      "cell_type": "code",
      "source": [
        "def remove_background_transparent(img, bg_colour)"
      ],
      "metadata": {
        "id": "mMS0OkM-L3Hz"
      },
      "execution_count": null,
      "outputs": []
    },
    {
      "cell_type": "markdown",
      "source": [
        "# Testing"
      ],
      "metadata": {
        "id": "7F6TqSfkpH54"
      }
    },
    {
      "cell_type": "code",
      "source": [
        "img = read(\"/content/test.jpg\")\n",
        "result = increase_resolution(img)\n",
        "save(result)"
      ],
      "metadata": {
        "colab": {
          "base_uri": "https://localhost:8080/",
          "height": 523
        },
        "id": "2UwV6Br-pJhw",
        "outputId": "888db014-666b-4e6b-8820-f9c936f373e4"
      },
      "execution_count": null,
      "outputs": [
        {
          "output_type": "error",
          "ename": "ValueError",
          "evalue": "could not broadcast input array from shape (1200,3) into shape (2400,3)",
          "traceback": [
            "\u001b[0;31m---------------------------------------------------------------------------\u001b[0m",
            "\u001b[0;31mValueError\u001b[0m                                Traceback (most recent call last)",
            "\u001b[0;32m<ipython-input-50-82768010e263>\u001b[0m in \u001b[0;36m<cell line: 2>\u001b[0;34m()\u001b[0m\n\u001b[1;32m      1\u001b[0m \u001b[0mimg\u001b[0m \u001b[0;34m=\u001b[0m \u001b[0mread\u001b[0m\u001b[0;34m(\u001b[0m\u001b[0;34m\"/content/test.jpg\"\u001b[0m\u001b[0;34m)\u001b[0m\u001b[0;34m\u001b[0m\u001b[0;34m\u001b[0m\u001b[0m\n\u001b[0;32m----> 2\u001b[0;31m \u001b[0mresult\u001b[0m \u001b[0;34m=\u001b[0m \u001b[0mincrease_resolution\u001b[0m\u001b[0;34m(\u001b[0m\u001b[0mimg\u001b[0m\u001b[0;34m)\u001b[0m\u001b[0;34m\u001b[0m\u001b[0;34m\u001b[0m\u001b[0m\n\u001b[0m\u001b[1;32m      3\u001b[0m \u001b[0msave\u001b[0m\u001b[0;34m(\u001b[0m\u001b[0mresult\u001b[0m\u001b[0;34m)\u001b[0m\u001b[0;34m\u001b[0m\u001b[0;34m\u001b[0m\u001b[0m\n",
            "\u001b[0;32m<ipython-input-49-0fcbadf924aa>\u001b[0m in \u001b[0;36mincrease_resolution\u001b[0;34m(img)\u001b[0m\n\u001b[1;32m     10\u001b[0m         \u001b[0mnew_img\u001b[0m\u001b[0;34m[\u001b[0m\u001b[0mr\u001b[0m\u001b[0;34m]\u001b[0m\u001b[0;34m[\u001b[0m\u001b[0;36m0\u001b[0m\u001b[0;34m:\u001b[0m\u001b[0;34m:\u001b[0m\u001b[0;36m2\u001b[0m\u001b[0;34m]\u001b[0m \u001b[0;34m=\u001b[0m \u001b[0mimg\u001b[0m\u001b[0;34m[\u001b[0m\u001b[0mr\u001b[0m\u001b[0;34m//\u001b[0m\u001b[0;36m2\u001b[0m\u001b[0;34m]\u001b[0m\u001b[0;34m[\u001b[0m\u001b[0;34m:\u001b[0m\u001b[0;34m]\u001b[0m\u001b[0;34m\u001b[0m\u001b[0;34m\u001b[0m\u001b[0m\n\u001b[1;32m     11\u001b[0m     \u001b[0;32mfor\u001b[0m \u001b[0mc\u001b[0m \u001b[0;32min\u001b[0m \u001b[0mrange\u001b[0m\u001b[0;34m(\u001b[0m\u001b[0;36m0\u001b[0m\u001b[0;34m,\u001b[0m \u001b[0mnew_cols\u001b[0m\u001b[0;34m,\u001b[0m \u001b[0;36m2\u001b[0m\u001b[0;34m)\u001b[0m\u001b[0;34m:\u001b[0m\u001b[0;34m\u001b[0m\u001b[0;34m\u001b[0m\u001b[0m\n\u001b[0;32m---> 12\u001b[0;31m         \u001b[0mnew_img\u001b[0m\u001b[0;34m[\u001b[0m\u001b[0;34m:\u001b[0m\u001b[0;34m:\u001b[0m\u001b[0;34m]\u001b[0m\u001b[0;34m[\u001b[0m\u001b[0mc\u001b[0m\u001b[0;34m]\u001b[0m \u001b[0;34m=\u001b[0m \u001b[0mimg\u001b[0m\u001b[0;34m[\u001b[0m\u001b[0;34m:\u001b[0m\u001b[0;34m]\u001b[0m\u001b[0;34m[\u001b[0m\u001b[0mc\u001b[0m\u001b[0;34m//\u001b[0m\u001b[0;36m2\u001b[0m\u001b[0;34m]\u001b[0m\u001b[0;34m\u001b[0m\u001b[0;34m\u001b[0m\u001b[0m\n\u001b[0m\u001b[1;32m     13\u001b[0m \u001b[0;34m\u001b[0m\u001b[0m\n\u001b[1;32m     14\u001b[0m \u001b[0;34m\u001b[0m\u001b[0m\n",
            "\u001b[0;31mValueError\u001b[0m: could not broadcast input array from shape (1200,3) into shape (2400,3)"
          ]
        }
      ]
    }
  ]
}